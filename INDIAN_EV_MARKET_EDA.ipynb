{
 "cells": [
  {
   "cell_type": "code",
   "execution_count": 1,
   "id": "3b3ceda8",
   "metadata": {},
   "outputs": [],
   "source": [
    "## deepak you can use all files in database and dont touch ElectricCarData.csv"
   ]
  },
  {
   "cell_type": "code",
   "execution_count": null,
   "id": "56619217",
   "metadata": {},
   "outputs": [],
   "source": [
    "## collect all insides from given datasets with there explain"
   ]
  }
 ],
 "metadata": {
  "kernelspec": {
   "display_name": "Python 3 (ipykernel)",
   "language": "python",
   "name": "python3"
  },
  "language_info": {
   "codemirror_mode": {
    "name": "ipython",
    "version": 3
   },
   "file_extension": ".py",
   "mimetype": "text/x-python",
   "name": "python",
   "nbconvert_exporter": "python",
   "pygments_lexer": "ipython3",
   "version": "3.9.13"
  },
  "vp": {
   "vp_config_version": "1.0.0",
   "vp_menu_width": 273,
   "vp_note_display": false,
   "vp_note_width": 0,
   "vp_position": {
    "width": 278
   },
   "vp_section_display": false,
   "vp_signature": "VisualPython"
  }
 },
 "nbformat": 4,
 "nbformat_minor": 5
}
